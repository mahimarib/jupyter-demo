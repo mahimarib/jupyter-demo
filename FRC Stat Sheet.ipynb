{
 "cells": [
  {
   "cell_type": "code",
   "execution_count": 1,
   "metadata": {
    "scrolled": true
   },
   "outputs": [
    {
     "name": "stdout",
     "output_type": "stream",
     "text": [
      "Populating the interactive namespace from numpy and matplotlib\n"
     ]
    }
   ],
   "source": [
    "%pylab inline\n",
    "import pandas\n",
    "import seaborn\n",
    "from urllib.request import Request, urlopen\n",
    "import json\n",
    "\n",
    "def get_json(url):\n",
    "    hdr = { \n",
    "        'X-TBA-Auth-Key' : '9l2oKd2IBt1TrlCxGhAl6pa6z06rNGcbDQrQ0EXFcMa7eCtPBdltgM5Tc69nwTOo', \n",
    "        'User-Agent': 'Mozilla /5.0 (Compatible MSIE 9.0;Windows NT 6.1;WOW64; Trident/5.0)' \n",
    "    }\n",
    "    req = Request(url=url, headers=hdr)\n",
    "    response = urlopen(req)\n",
    "    json_text = json.loads(response.read())\n",
    "    response.close()\n",
    "    return json_text"
   ]
  },
  {
   "cell_type": "code",
   "execution_count": 2,
   "metadata": {},
   "outputs": [],
   "source": [
    "json_data = get_json('https://www.thebluealliance.com/api/v3/event/2018nysu/matches')"
   ]
  },
  {
   "cell_type": "code",
   "execution_count": 3,
   "metadata": {},
   "outputs": [],
   "source": [
    "df = pandas.io.json.json_normalize(data=json_data, meta=[['score_breakdown', 'blue'], ['alliances', 'red']], sep='.')"
   ]
  },
  {
   "cell_type": "code",
   "execution_count": 4,
   "metadata": {},
   "outputs": [],
   "source": [
    "df['actual_time'] = pandas.to_datetime(df['actual_time'], unit='s')\n",
    "df.drop('alliances.blue.dq_team_keys', axis=1, inplace=True)\n",
    "df.drop('alliances.blue.surrogate_team_keys', axis=1, inplace=True)\n",
    "df.drop('alliances.red.dq_team_keys', axis=1, inplace=True)\n",
    "df.drop('alliances.red.surrogate_team_keys', axis=1, inplace=True)\n",
    "df.drop('time', axis=1, inplace=True)\n",
    "df.drop('videos', axis=1, inplace=True)\n",
    "df.drop('post_result_time', axis=1, inplace=True)\n",
    "df.drop('predicted_time', axis=1, inplace=True)\n",
    "# list(df)"
   ]
  },
  {
   "cell_type": "markdown",
   "metadata": {},
   "source": [
    "## Auto Scores of Alliances Qualification Matches Hudson Valley 2018\n",
    "Most teams only decided to cross the auton line, some decided to get ownership points"
   ]
  },
  {
   "cell_type": "code",
   "execution_count": 5,
   "metadata": {
    "scrolled": true
   },
   "outputs": [
    {
     "data": {
      "text/plain": [
       "Text(0,0.5,'Number of Teams')"
      ]
     },
     "execution_count": 5,
     "metadata": {},
     "output_type": "execute_result"
    },
    {
     "data": {
      "image/png": "[encoded data removed]",
      "text/plain": [
       "<Figure size 432x288 with 1 Axes>"
      ]
     },
     "metadata": {},
     "output_type": "display_data"
    }
   ],
   "source": [
    "qm = df[df['comp_level'] == 'qm']\n",
    "auto_scores = [qm['score_breakdown.blue.autoPoints'], qm['score_breakdown.red.autoPoints']]\n",
    "result = pandas.concat(auto_scores)\n",
    "bins = [0, 5, 10, 15, 20, 25, 30, 35, 40, 45, 50]\n",
    "hist(result, rwidth=.5, alpha=0.5, align='left', bins=bins)\n",
    "title('Auto Scores 2018 Hudson Valley')\n",
    "xlabel('score')\n",
    "xticks(range(0, 50, 5))\n",
    "ylabel('Number of Teams')"
   ]
  }
 ],
 "metadata": {
  "kernelspec": {
   "display_name": "Python 3",
   "language": "python",
   "name": "python3"
  },
  "language_info": {
   "codemirror_mode": {
    "name": "ipython",
    "version": 3
   },
   "file_extension": ".py",
   "mimetype": "text/x-python",
   "name": "python",
   "nbconvert_exporter": "python",
   "pygments_lexer": "ipython3",
   "version": "3.6.5"
  }
 },
 "nbformat": 4,
 "nbformat_minor": 2
}
