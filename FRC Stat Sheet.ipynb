{
 "cells": [
  {
   "cell_type": "code",
   "execution_count": 1,
   "metadata": {
    "scrolled": true
   },
   "outputs": [
    {
     "name": "stdout",
     "output_type": "stream",
     "text": [
      "Populating the interactive namespace from numpy and matplotlib\n"
     ]
    }
   ],
   "source": [
    "%pylab inline\n",
    "import pandas\n",
    "import seaborn\n",
    "from urllib.request import Request, urlopen\n",
    "import json\n",
    "\n",
    "def get_json(url):\n",
    "    hdr = { \n",
    "        'X-TBA-Auth-Key' : '9l2oKd2IBt1TrlCxGhAl6pa6z06rNGcbDQrQ0EXFcMa7eCtPBdltgM5Tc69nwTOo', \n",
    "        'User-Agent': 'Mozilla /5.0 (Compatible MSIE 9.0;Windows NT 6.1;WOW64; Trident/5.0)' \n",
    "    }\n",
    "    req = Request(url=url, headers=hdr)\n",
    "    response = urlopen(req)\n",
    "    json_text = json.loads(response.read())\n",
    "    response.close()\n",
    "    return json_text"
   ]
  },
  {
   "cell_type": "code",
   "execution_count": 2,
   "metadata": {},
   "outputs": [],
   "source": [
    "json_data = get_json('https://www.thebluealliance.com/api/v3/event/2018nysu/matches')"
   ]
  },
  {
   "cell_type": "code",
   "execution_count": 3,
   "metadata": {},
   "outputs": [],
   "source": [
    "df = pandas.io.json.json_normalize(data=json_data, meta=[['score_breakdown', 'blue'], ['alliances', 'red']], sep='.')"
   ]
  },
  {
   "cell_type": "code",
   "execution_count": 4,
   "metadata": {
    "collapsed": true
   },
   "outputs": [
    {
     "data": {
      "text/plain": [
       "['actual_time',\n",
       " 'alliances.blue.score',\n",
       " 'alliances.blue.team_keys',\n",
       " 'alliances.red.score',\n",
       " 'alliances.red.team_keys',\n",
       " 'comp_level',\n",
       " 'event_key',\n",
       " 'key',\n",
       " 'match_number',\n",
       " 'score_breakdown.blue.adjustPoints',\n",
       " 'score_breakdown.blue.autoOwnershipPoints',\n",
       " 'score_breakdown.blue.autoPoints',\n",
       " 'score_breakdown.blue.autoQuestRankingPoint',\n",
       " 'score_breakdown.blue.autoRobot1',\n",
       " 'score_breakdown.blue.autoRobot2',\n",
       " 'score_breakdown.blue.autoRobot3',\n",
       " 'score_breakdown.blue.autoRunPoints',\n",
       " 'score_breakdown.blue.autoScaleOwnershipSec',\n",
       " 'score_breakdown.blue.autoSwitchAtZero',\n",
       " 'score_breakdown.blue.autoSwitchOwnershipSec',\n",
       " 'score_breakdown.blue.endgamePoints',\n",
       " 'score_breakdown.blue.endgameRobot1',\n",
       " 'score_breakdown.blue.endgameRobot2',\n",
       " 'score_breakdown.blue.endgameRobot3',\n",
       " 'score_breakdown.blue.faceTheBossRankingPoint',\n",
       " 'score_breakdown.blue.foulCount',\n",
       " 'score_breakdown.blue.foulPoints',\n",
       " 'score_breakdown.blue.rp',\n",
       " 'score_breakdown.blue.tba_gameData',\n",
       " 'score_breakdown.blue.techFoulCount',\n",
       " 'score_breakdown.blue.teleopOwnershipPoints',\n",
       " 'score_breakdown.blue.teleopPoints',\n",
       " 'score_breakdown.blue.teleopScaleBoostSec',\n",
       " 'score_breakdown.blue.teleopScaleForceSec',\n",
       " 'score_breakdown.blue.teleopScaleOwnershipSec',\n",
       " 'score_breakdown.blue.teleopSwitchBoostSec',\n",
       " 'score_breakdown.blue.teleopSwitchForceSec',\n",
       " 'score_breakdown.blue.teleopSwitchOwnershipSec',\n",
       " 'score_breakdown.blue.totalPoints',\n",
       " 'score_breakdown.blue.vaultBoostPlayed',\n",
       " 'score_breakdown.blue.vaultBoostTotal',\n",
       " 'score_breakdown.blue.vaultForcePlayed',\n",
       " 'score_breakdown.blue.vaultForceTotal',\n",
       " 'score_breakdown.blue.vaultLevitatePlayed',\n",
       " 'score_breakdown.blue.vaultLevitateTotal',\n",
       " 'score_breakdown.blue.vaultPoints',\n",
       " 'score_breakdown.red.adjustPoints',\n",
       " 'score_breakdown.red.autoOwnershipPoints',\n",
       " 'score_breakdown.red.autoPoints',\n",
       " 'score_breakdown.red.autoQuestRankingPoint',\n",
       " 'score_breakdown.red.autoRobot1',\n",
       " 'score_breakdown.red.autoRobot2',\n",
       " 'score_breakdown.red.autoRobot3',\n",
       " 'score_breakdown.red.autoRunPoints',\n",
       " 'score_breakdown.red.autoScaleOwnershipSec',\n",
       " 'score_breakdown.red.autoSwitchAtZero',\n",
       " 'score_breakdown.red.autoSwitchOwnershipSec',\n",
       " 'score_breakdown.red.endgamePoints',\n",
       " 'score_breakdown.red.endgameRobot1',\n",
       " 'score_breakdown.red.endgameRobot2',\n",
       " 'score_breakdown.red.endgameRobot3',\n",
       " 'score_breakdown.red.faceTheBossRankingPoint',\n",
       " 'score_breakdown.red.foulCount',\n",
       " 'score_breakdown.red.foulPoints',\n",
       " 'score_breakdown.red.rp',\n",
       " 'score_breakdown.red.tba_gameData',\n",
       " 'score_breakdown.red.techFoulCount',\n",
       " 'score_breakdown.red.teleopOwnershipPoints',\n",
       " 'score_breakdown.red.teleopPoints',\n",
       " 'score_breakdown.red.teleopScaleBoostSec',\n",
       " 'score_breakdown.red.teleopScaleForceSec',\n",
       " 'score_breakdown.red.teleopScaleOwnershipSec',\n",
       " 'score_breakdown.red.teleopSwitchBoostSec',\n",
       " 'score_breakdown.red.teleopSwitchForceSec',\n",
       " 'score_breakdown.red.teleopSwitchOwnershipSec',\n",
       " 'score_breakdown.red.totalPoints',\n",
       " 'score_breakdown.red.vaultBoostPlayed',\n",
       " 'score_breakdown.red.vaultBoostTotal',\n",
       " 'score_breakdown.red.vaultForcePlayed',\n",
       " 'score_breakdown.red.vaultForceTotal',\n",
       " 'score_breakdown.red.vaultLevitatePlayed',\n",
       " 'score_breakdown.red.vaultLevitateTotal',\n",
       " 'score_breakdown.red.vaultPoints',\n",
       " 'set_number',\n",
       " 'winning_alliance']"
      ]
     },
     "execution_count": 4,
     "metadata": {},
     "output_type": "execute_result"
    }
   ],
   "source": [
    "df['actual_time'] = pandas.to_datetime(df['actual_time'], unit='s')\n",
    "df.drop('alliances.blue.dq_team_keys', axis=1, inplace=True)\n",
    "df.drop('alliances.blue.surrogate_team_keys', axis=1, inplace=True)\n",
    "df.drop('alliances.red.dq_team_keys', axis=1, inplace=True)\n",
    "df.drop('alliances.red.surrogate_team_keys', axis=1, inplace=True)\n",
    "df.drop('time', axis=1, inplace=True)\n",
    "df.drop('videos', axis=1, inplace=True)\n",
    "df.drop('post_result_time', axis=1, inplace=True)\n",
    "df.drop('predicted_time', axis=1, inplace=True)\n",
    "list(df)"
   ]
  },
  {
   "cell_type": "markdown",
   "metadata": {},
   "source": [
    "## Auto Scores of Alliances Qualification Matches Hudson Valley 2018\n",
    "Most teams only decided to cross the auton line, some decided to get ownership points"
   ]
  },
  {
   "cell_type": "code",
   "execution_count": 5,
   "metadata": {
    "scrolled": true
   },
   "outputs": [
    {
     "data": {
      "text/plain": [
       "Text(0,0.5,'Number of Teams')"
      ]
     },
     "execution_count": 5,
     "metadata": {},
     "output_type": "execute_result"
    },
    {
     "data": {
      "image/png": "[encoded data removed]",
      "text/plain": [
       "<Figure size 432x288 with 1 Axes>"
      ]
     },
     "metadata": {},
     "output_type": "display_data"
    }
   ],
   "source": [
    "qm = df[df['comp_level'] == 'qm']\n",
    "auto_scores = [qm['score_breakdown.blue.autoPoints'], qm['score_breakdown.red.autoPoints']]\n",
    "result = pandas.concat(auto_scores)\n",
    "bins = [0, 5, 10, 15, 20, 25, 30, 35, 40, 45, 50]\n",
    "hist(result, rwidth=.5, alpha=0.5, align='left', bins=bins)\n",
    "title('Auto Scores 2018 Hudson Valley')\n",
    "xlabel('score')\n",
    "ylabel('Number of Teams')"
   ]
  }
 ],
 "metadata": {
  "kernelspec": {
   "display_name": "Python 3",
   "language": "python",
   "name": "python3"
  },
  "language_info": {
   "codemirror_mode": {
    "name": "ipython",
    "version": 3
   },
   "file_extension": ".py",
   "mimetype": "text/x-python",
   "name": "python",
   "nbconvert_exporter": "python",
   "pygments_lexer": "ipython3",
   "version": "3.6.5"
  }
 },
 "nbformat": 4,
 "nbformat_minor": 2
}
